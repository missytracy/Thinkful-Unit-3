{
 "cells": [
  {
   "cell_type": "code",
   "execution_count": 97,
   "metadata": {},
   "outputs": [],
   "source": [
    "import pandas as pd"
   ]
  },
  {
   "cell_type": "markdown",
   "metadata": {},
   "source": [
    "# Part 1: Spotify API\n",
    "\n",
    "The notebook steps through the process for making a call to the Spotify API to obtain audio features for each song in a playlist.  It is the first notebook of three in my supervised learning capstone.\n",
    "\n",
    "Data was obtained from Spotify using *Spotipy*, a lightweight Python library for the Spotify Web API.  \n",
    "\n",
    "http://spotipy.readthedocs.io/en/latest/#"
   ]
  },
  {
   "cell_type": "markdown",
   "metadata": {},
   "source": [
    "### API Authorization "
   ]
  },
  {
   "cell_type": "code",
   "execution_count": 98,
   "metadata": {},
   "outputs": [],
   "source": [
    "# Import spotipy\n",
    "import spotipy\n",
    "import spotipy.util as util\n",
    "\n",
    "# Client credentials\n",
    "cid =\"5b14ab139b5b428abb0631807fbe753d\" \n",
    "secret = \"50cc15b5c98d412e8bb5d6f81e44696c\"  \n",
    "username='sdvzhr40fdjbtr1dp7mbnlfk4'\n",
    "\n",
    "# Specify redirect path to local host\n",
    "redirect = \"http://localhost:8888/callback\"\n",
    "\n",
    "# Specify scope of inquiry\n",
    "scope = 'playlist-read-private'\n",
    "\n",
    "# Generate access token\n",
    "token = util.prompt_for_user_token(username, scope=scope, client_id=cid, client_secret=secret, redirect_uri=redirect)\n",
    "sp = spotipy.Spotify(auth=token)"
   ]
  },
  {
   "cell_type": "markdown",
   "metadata": {},
   "source": [
    "### Playlist IDs"
   ]
  },
  {
   "cell_type": "code",
   "execution_count": 99,
   "metadata": {},
   "outputs": [],
   "source": [
    "# Uncomment specific playlist to get audio features.  \n",
    "# Repeat for both playlist.\n",
    "\n",
    "# Like\n",
    "#playlist_id = '1qKLFl2MHnP0RP8xiD26aB'\n",
    "\n",
    "# Dislike\n",
    "#playlist_id = '6z3MjcPbgCiAIJYfrPevin'"
   ]
  },
  {
   "cell_type": "markdown",
   "metadata": {},
   "source": [
    "### Query Track Information From Playlist\n",
    "\n",
    "Code for this section inspired by:\n",
    "\n",
    "https://stackoverflow.com/questions/39086287/spotipy-how-to-read-more-than-100-tracks-from-a-playlist\n",
    "\n",
    "Thanks ackleyrc!"
   ]
  },
  {
   "cell_type": "code",
   "execution_count": 100,
   "metadata": {},
   "outputs": [],
   "source": [
    "# Specify API endpoint to access tracks in playlist\n",
    "playlist = sp.user_playlist_tracks(username,playlist_id)\n",
    "\n",
    "# Store playlist items in tracks variable\n",
    "tracks = playlist['items']\n",
    "\n",
    "# API limits to queries to 100 returned results\n",
    "# Use 'next' method to loop through entire playlist\n",
    "# Use extend method to append elements from iteration \n",
    "while playlist['next']:\n",
    "    playlist = sp.next(playlist)\n",
    "    tracks.extend(playlist['items'])"
   ]
  },
  {
   "cell_type": "code",
   "execution_count": 101,
   "metadata": {},
   "outputs": [
    {
     "data": {
      "text/plain": [
       "517"
      ]
     },
     "execution_count": 101,
     "metadata": {},
     "output_type": "execute_result"
    }
   ],
   "source": [
    "# Verify all tracks were extracted  \n",
    "len(tracks)"
   ]
  },
  {
   "cell_type": "markdown",
   "metadata": {},
   "source": [
    "### Extract Song ID from Track Information"
   ]
  },
  {
   "cell_type": "code",
   "execution_count": 102,
   "metadata": {},
   "outputs": [],
   "source": [
    "# Informatin stored as nested dictionary\n",
    "# Information I want is tracks(dict) --> track(dict) --> id(str)\n",
    "\n",
    "# Create empty ids list\n",
    "ids = []\n",
    "\n",
    "# Loop through tracks\n",
    "for i in range(len(tracks)):\n",
    "   \n",
    "    # Get song id from track dictionary\n",
    "    song_id = tracks[i]['track']['id']\n",
    "    \n",
    "    # Append to master ids list\n",
    "    ids.append(song_id)"
   ]
  },
  {
   "cell_type": "code",
   "execution_count": 112,
   "metadata": {},
   "outputs": [
    {
     "data": {
      "text/plain": [
       "517"
      ]
     },
     "execution_count": 112,
     "metadata": {},
     "output_type": "execute_result"
    }
   ],
   "source": [
    "# Confirm all ids extracted.  Should match length of tracks.\n",
    "len(ids)"
   ]
  },
  {
   "cell_type": "markdown",
   "metadata": {},
   "source": [
    "### Get Audio Features Using Song ID"
   ]
  },
  {
   "cell_type": "code",
   "execution_count": 113,
   "metadata": {},
   "outputs": [],
   "source": [
    "# Create empty list to store list of dictionaries\n",
    "features = []\n",
    "\n",
    "# Loop through ids \n",
    "for i in range(len(ids)):\n",
    "    \n",
    "    # Get song features for each item\n",
    "    song_feature = sp.audio_features(ids[i])\n",
    "    \n",
    "    # Append to master features list\n",
    "    features.append(song_feature)"
   ]
  },
  {
   "cell_type": "code",
   "execution_count": 114,
   "metadata": {},
   "outputs": [
    {
     "name": "stdout",
     "output_type": "stream",
     "text": [
      "517\n"
     ]
    }
   ],
   "source": [
    "# Confirm length of list matches len(ids)\n",
    "print(len(features))"
   ]
  },
  {
   "cell_type": "markdown",
   "metadata": {},
   "source": [
    "### Extract Audio Features to Data Frame"
   ]
  },
  {
   "cell_type": "code",
   "execution_count": 106,
   "metadata": {},
   "outputs": [],
   "source": [
    "# Information I want is in list of list of dictionaries.\n",
    "# Audio features for each song are stored in a dictionary.\n",
    "# Each dictionary is being stored as a list, and then as \n",
    "# a list item within the features list.\n",
    "\n",
    "#[[{}], [{}], ..., [{}]]\n",
    "\n",
    "# Goal: format data into list of dictionaries to populate df\n",
    "\n",
    "# Examine data structure \n",
    "# features[0:1]"
   ]
  },
  {
   "cell_type": "code",
   "execution_count": 115,
   "metadata": {},
   "outputs": [],
   "source": [
    "# Create empty list to store extracted key:value pairs\n",
    "features_list = []\n",
    "\n",
    "# Loop through features list to pull out dictionary items \n",
    "for i in range(len(features)):\n",
    "    \n",
    "    # Get keys from each song's audio features  \n",
    "    keys = features[i][0].keys()\n",
    "    \n",
    "    # Get values from each song's audio features \n",
    "    values = features[i][0].values()\n",
    "    \n",
    "    # Recombine into single dictionary for each song\n",
    "    dict_item = dict(zip(keys, values))\n",
    "    \n",
    "    # Store dictionary in list\n",
    "    features_list.append(dict_item)"
   ]
  },
  {
   "cell_type": "code",
   "execution_count": 116,
   "metadata": {},
   "outputs": [
    {
     "data": {
      "text/plain": [
       "517"
      ]
     },
     "execution_count": 116,
     "metadata": {},
     "output_type": "execute_result"
    }
   ],
   "source": [
    "# Confirm length \n",
    "len(features_list)"
   ]
  },
  {
   "cell_type": "code",
   "execution_count": 117,
   "metadata": {
    "scrolled": true
   },
   "outputs": [
    {
     "data": {
      "text/html": [
       "<div>\n",
       "<style scoped>\n",
       "    .dataframe tbody tr th:only-of-type {\n",
       "        vertical-align: middle;\n",
       "    }\n",
       "\n",
       "    .dataframe tbody tr th {\n",
       "        vertical-align: top;\n",
       "    }\n",
       "\n",
       "    .dataframe thead th {\n",
       "        text-align: right;\n",
       "    }\n",
       "</style>\n",
       "<table border=\"1\" class=\"dataframe\">\n",
       "  <thead>\n",
       "    <tr style=\"text-align: right;\">\n",
       "      <th></th>\n",
       "      <th>acousticness</th>\n",
       "      <th>analysis_url</th>\n",
       "      <th>danceability</th>\n",
       "      <th>duration_ms</th>\n",
       "      <th>energy</th>\n",
       "      <th>id</th>\n",
       "      <th>instrumentalness</th>\n",
       "      <th>key</th>\n",
       "      <th>liveness</th>\n",
       "      <th>loudness</th>\n",
       "      <th>mode</th>\n",
       "      <th>speechiness</th>\n",
       "      <th>tempo</th>\n",
       "      <th>time_signature</th>\n",
       "      <th>track_href</th>\n",
       "      <th>type</th>\n",
       "      <th>uri</th>\n",
       "      <th>valence</th>\n",
       "    </tr>\n",
       "  </thead>\n",
       "  <tbody>\n",
       "    <tr>\n",
       "      <th>0</th>\n",
       "      <td>0.42200</td>\n",
       "      <td>https://api.spotify.com/v1/audio-analysis/5X39...</td>\n",
       "      <td>0.582</td>\n",
       "      <td>200373</td>\n",
       "      <td>0.452</td>\n",
       "      <td>5X39KNrxjqJCJHcG1pqWRZ</td>\n",
       "      <td>0.002560</td>\n",
       "      <td>1</td>\n",
       "      <td>0.2960</td>\n",
       "      <td>-12.315</td>\n",
       "      <td>1</td>\n",
       "      <td>0.0439</td>\n",
       "      <td>96.277</td>\n",
       "      <td>4</td>\n",
       "      <td>https://api.spotify.com/v1/tracks/5X39KNrxjqJC...</td>\n",
       "      <td>audio_features</td>\n",
       "      <td>spotify:track:5X39KNrxjqJCJHcG1pqWRZ</td>\n",
       "      <td>0.406</td>\n",
       "    </tr>\n",
       "    <tr>\n",
       "      <th>1</th>\n",
       "      <td>0.01550</td>\n",
       "      <td>https://api.spotify.com/v1/audio-analysis/4YaN...</td>\n",
       "      <td>0.566</td>\n",
       "      <td>283538</td>\n",
       "      <td>0.587</td>\n",
       "      <td>4YaNLEPw3MrIgkGOkBrAh2</td>\n",
       "      <td>0.000021</td>\n",
       "      <td>6</td>\n",
       "      <td>0.1110</td>\n",
       "      <td>-5.960</td>\n",
       "      <td>1</td>\n",
       "      <td>0.0308</td>\n",
       "      <td>82.046</td>\n",
       "      <td>4</td>\n",
       "      <td>https://api.spotify.com/v1/tracks/4YaNLEPw3MrI...</td>\n",
       "      <td>audio_features</td>\n",
       "      <td>spotify:track:4YaNLEPw3MrIgkGOkBrAh2</td>\n",
       "      <td>0.246</td>\n",
       "    </tr>\n",
       "    <tr>\n",
       "      <th>2</th>\n",
       "      <td>0.62500</td>\n",
       "      <td>https://api.spotify.com/v1/audio-analysis/0Ktz...</td>\n",
       "      <td>0.446</td>\n",
       "      <td>236795</td>\n",
       "      <td>0.303</td>\n",
       "      <td>0KtzMx1GbkkPyA2TQceHoM</td>\n",
       "      <td>0.001360</td>\n",
       "      <td>0</td>\n",
       "      <td>0.0596</td>\n",
       "      <td>-7.031</td>\n",
       "      <td>1</td>\n",
       "      <td>0.0306</td>\n",
       "      <td>120.212</td>\n",
       "      <td>4</td>\n",
       "      <td>https://api.spotify.com/v1/tracks/0KtzMx1GbkkP...</td>\n",
       "      <td>audio_features</td>\n",
       "      <td>spotify:track:0KtzMx1GbkkPyA2TQceHoM</td>\n",
       "      <td>0.057</td>\n",
       "    </tr>\n",
       "    <tr>\n",
       "      <th>3</th>\n",
       "      <td>0.03810</td>\n",
       "      <td>https://api.spotify.com/v1/audio-analysis/3VXr...</td>\n",
       "      <td>0.579</td>\n",
       "      <td>208018</td>\n",
       "      <td>0.687</td>\n",
       "      <td>3VXrpkM94UBgL4voR20tZq</td>\n",
       "      <td>0.010700</td>\n",
       "      <td>9</td>\n",
       "      <td>0.1550</td>\n",
       "      <td>-6.859</td>\n",
       "      <td>0</td>\n",
       "      <td>0.0596</td>\n",
       "      <td>86.970</td>\n",
       "      <td>4</td>\n",
       "      <td>https://api.spotify.com/v1/tracks/3VXrpkM94UBg...</td>\n",
       "      <td>audio_features</td>\n",
       "      <td>spotify:track:3VXrpkM94UBgL4voR20tZq</td>\n",
       "      <td>0.545</td>\n",
       "    </tr>\n",
       "    <tr>\n",
       "      <th>4</th>\n",
       "      <td>0.00534</td>\n",
       "      <td>https://api.spotify.com/v1/audio-analysis/4x6a...</td>\n",
       "      <td>0.663</td>\n",
       "      <td>271136</td>\n",
       "      <td>0.840</td>\n",
       "      <td>4x6aawsLyPkF3aGPXGvbat</td>\n",
       "      <td>0.342000</td>\n",
       "      <td>9</td>\n",
       "      <td>0.1690</td>\n",
       "      <td>-5.618</td>\n",
       "      <td>0</td>\n",
       "      <td>0.0453</td>\n",
       "      <td>108.022</td>\n",
       "      <td>4</td>\n",
       "      <td>https://api.spotify.com/v1/tracks/4x6aawsLyPkF...</td>\n",
       "      <td>audio_features</td>\n",
       "      <td>spotify:track:4x6aawsLyPkF3aGPXGvbat</td>\n",
       "      <td>0.200</td>\n",
       "    </tr>\n",
       "  </tbody>\n",
       "</table>\n",
       "</div>"
      ],
      "text/plain": [
       "   acousticness                                       analysis_url  \\\n",
       "0       0.42200  https://api.spotify.com/v1/audio-analysis/5X39...   \n",
       "1       0.01550  https://api.spotify.com/v1/audio-analysis/4YaN...   \n",
       "2       0.62500  https://api.spotify.com/v1/audio-analysis/0Ktz...   \n",
       "3       0.03810  https://api.spotify.com/v1/audio-analysis/3VXr...   \n",
       "4       0.00534  https://api.spotify.com/v1/audio-analysis/4x6a...   \n",
       "\n",
       "   danceability  duration_ms  energy                      id  \\\n",
       "0         0.582       200373   0.452  5X39KNrxjqJCJHcG1pqWRZ   \n",
       "1         0.566       283538   0.587  4YaNLEPw3MrIgkGOkBrAh2   \n",
       "2         0.446       236795   0.303  0KtzMx1GbkkPyA2TQceHoM   \n",
       "3         0.579       208018   0.687  3VXrpkM94UBgL4voR20tZq   \n",
       "4         0.663       271136   0.840  4x6aawsLyPkF3aGPXGvbat   \n",
       "\n",
       "   instrumentalness  key  liveness  loudness  mode  speechiness    tempo  \\\n",
       "0          0.002560    1    0.2960   -12.315     1       0.0439   96.277   \n",
       "1          0.000021    6    0.1110    -5.960     1       0.0308   82.046   \n",
       "2          0.001360    0    0.0596    -7.031     1       0.0306  120.212   \n",
       "3          0.010700    9    0.1550    -6.859     0       0.0596   86.970   \n",
       "4          0.342000    9    0.1690    -5.618     0       0.0453  108.022   \n",
       "\n",
       "   time_signature                                         track_href  \\\n",
       "0               4  https://api.spotify.com/v1/tracks/5X39KNrxjqJC...   \n",
       "1               4  https://api.spotify.com/v1/tracks/4YaNLEPw3MrI...   \n",
       "2               4  https://api.spotify.com/v1/tracks/0KtzMx1GbkkP...   \n",
       "3               4  https://api.spotify.com/v1/tracks/3VXrpkM94UBg...   \n",
       "4               4  https://api.spotify.com/v1/tracks/4x6aawsLyPkF...   \n",
       "\n",
       "             type                                   uri  valence  \n",
       "0  audio_features  spotify:track:5X39KNrxjqJCJHcG1pqWRZ    0.406  \n",
       "1  audio_features  spotify:track:4YaNLEPw3MrIgkGOkBrAh2    0.246  \n",
       "2  audio_features  spotify:track:0KtzMx1GbkkPyA2TQceHoM    0.057  \n",
       "3  audio_features  spotify:track:3VXrpkM94UBgL4voR20tZq    0.545  \n",
       "4  audio_features  spotify:track:4x6aawsLyPkF3aGPXGvbat    0.200  "
      ]
     },
     "execution_count": 117,
     "metadata": {},
     "output_type": "execute_result"
    }
   ],
   "source": [
    "# Create dataframe\n",
    "features = pd.DataFrame(features_list)\n",
    "\n",
    "# Check it out for good measure\n",
    "features.head()"
   ]
  },
  {
   "cell_type": "markdown",
   "metadata": {},
   "source": [
    "### Write to CSV"
   ]
  },
  {
   "cell_type": "code",
   "execution_count": 118,
   "metadata": {},
   "outputs": [],
   "source": [
    "# Specify columns to keep.  Drop columns not related to audio features.\n",
    "columns= ['acousticness', 'danceability', 'duration_ms', 'energy', 'instrumentalness', 'key', 'liveness', \n",
    "           'loudness', 'mode', 'speechiness', 'tempo', 'time_signature', 'valence']\n",
    "\n",
    "# Export to csv.  Change path based on specific playlist.\n",
    "features.to_csv('disliked_playlist.csv', columns=columns)\n",
    "\n",
    "# Remember to repeat for both playlists!"
   ]
  }
 ],
 "metadata": {
  "kernelspec": {
   "display_name": "Python 3",
   "language": "python",
   "name": "python3"
  },
  "language_info": {
   "codemirror_mode": {
    "name": "ipython",
    "version": 3
   },
   "file_extension": ".py",
   "mimetype": "text/x-python",
   "name": "python",
   "nbconvert_exporter": "python",
   "pygments_lexer": "ipython3",
   "version": "3.6.3"
  }
 },
 "nbformat": 4,
 "nbformat_minor": 2
}
