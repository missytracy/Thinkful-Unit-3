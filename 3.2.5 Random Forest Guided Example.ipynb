{
 "cells": [
  {
   "cell_type": "code",
   "execution_count": 1,
   "metadata": {},
   "outputs": [],
   "source": [
    "import pandas as pd\n",
    "import numpy as np\n",
    "import matplotlib.pyplot as plt\n",
    "%matplotlib inline"
   ]
  },
  {
   "cell_type": "markdown",
   "metadata": {},
   "source": [
    "# 3.2.5 Random Forest Guided Example"
   ]
  },
  {
   "cell_type": "markdown",
   "metadata": {},
   "source": [
    "We've talked about Random Forests. Now it's time to build one.\n",
    "\n",
    "Here we'll use data from Lending Club to predict the state of a loan given some information about it. You can find the dataset [here](https://www.lendingclub.com/info/download-data.action). We'll use 2015 data. ([Thinkful mirror](https://www.dropbox.com/s/m7z42lubaiory33/LoanStats3d.csv?dl=0))"
   ]
  },
  {
   "cell_type": "code",
   "execution_count": 2,
   "metadata": {},
   "outputs": [
    {
     "name": "stderr",
     "output_type": "stream",
     "text": [
      "c:\\users\\mtracy\\appdata\\local\\programs\\python\\python36-32\\lib\\site-packages\\IPython\\core\\interactiveshell.py:2728: DtypeWarning: Columns (19) have mixed types. Specify dtype option on import or set low_memory=False.\n",
      "  interactivity=interactivity, compiler=compiler, result=result)\n"
     ]
    }
   ],
   "source": [
    "# Replace the path with the correct path for your data.\n",
    "y2015 = pd.read_csv(\n",
    "    'LoanStats3d.csv',\n",
    "    skipinitialspace=True,\n",
    "    header=1, nrows=50000\n",
    ")\n",
    "\n",
    "# Convert ID and Interest Rate to numeric.\n",
    "y2015['id'] = pd.to_numeric(y2015['id'], errors='coerce')\n",
    "y2015['int_rate'] = pd.to_numeric(y2015['int_rate'].str.strip('%'), errors='coerce')\n",
    "\n",
    "# Drop other columns with many unique variables\n",
    "y2015.drop(['url', 'emp_title', 'zip_code', 'earliest_cr_line', 'revol_util',\n",
    "            'sub_grade', 'addr_state', 'desc'], 1, inplace=True)"
   ]
  },
  {
   "cell_type": "code",
   "execution_count": 3,
   "metadata": {},
   "outputs": [
    {
     "data": {
      "text/html": [
       "<div>\n",
       "<style scoped>\n",
       "    .dataframe tbody tr th:only-of-type {\n",
       "        vertical-align: middle;\n",
       "    }\n",
       "\n",
       "    .dataframe tbody tr th {\n",
       "        vertical-align: top;\n",
       "    }\n",
       "\n",
       "    .dataframe thead th {\n",
       "        text-align: right;\n",
       "    }\n",
       "</style>\n",
       "<table border=\"1\" class=\"dataframe\">\n",
       "  <thead>\n",
       "    <tr style=\"text-align: right;\">\n",
       "      <th></th>\n",
       "      <th>id</th>\n",
       "      <th>member_id</th>\n",
       "      <th>loan_amnt</th>\n",
       "      <th>funded_amnt</th>\n",
       "      <th>funded_amnt_inv</th>\n",
       "      <th>int_rate</th>\n",
       "      <th>installment</th>\n",
       "      <th>annual_inc</th>\n",
       "      <th>dti</th>\n",
       "      <th>delinq_2yrs</th>\n",
       "      <th>...</th>\n",
       "      <th>num_tl_90g_dpd_24m</th>\n",
       "      <th>num_tl_op_past_12m</th>\n",
       "      <th>pct_tl_nvr_dlq</th>\n",
       "      <th>percent_bc_gt_75</th>\n",
       "      <th>pub_rec_bankruptcies</th>\n",
       "      <th>tax_liens</th>\n",
       "      <th>tot_hi_cred_lim</th>\n",
       "      <th>total_bal_ex_mort</th>\n",
       "      <th>total_bc_limit</th>\n",
       "      <th>total_il_high_credit_limit</th>\n",
       "    </tr>\n",
       "  </thead>\n",
       "  <tbody>\n",
       "    <tr>\n",
       "      <th>count</th>\n",
       "      <td>5.000000e+04</td>\n",
       "      <td>5.000000e+04</td>\n",
       "      <td>50000.000000</td>\n",
       "      <td>50000.000000</td>\n",
       "      <td>50000.00000</td>\n",
       "      <td>50000.000000</td>\n",
       "      <td>50000.000000</td>\n",
       "      <td>5.000000e+04</td>\n",
       "      <td>50000.000000</td>\n",
       "      <td>50000.000000</td>\n",
       "      <td>...</td>\n",
       "      <td>50000.000000</td>\n",
       "      <td>50000.000000</td>\n",
       "      <td>50000.000000</td>\n",
       "      <td>49504.000000</td>\n",
       "      <td>50000.000000</td>\n",
       "      <td>50000.000000</td>\n",
       "      <td>5.000000e+04</td>\n",
       "      <td>50000.000000</td>\n",
       "      <td>50000.000000</td>\n",
       "      <td>50000.000000</td>\n",
       "    </tr>\n",
       "    <tr>\n",
       "      <th>mean</th>\n",
       "      <td>6.670962e+07</td>\n",
       "      <td>7.144267e+07</td>\n",
       "      <td>15019.333500</td>\n",
       "      <td>15019.333500</td>\n",
       "      <td>15011.79400</td>\n",
       "      <td>12.236739</td>\n",
       "      <td>434.134945</td>\n",
       "      <td>7.919482e+04</td>\n",
       "      <td>19.540321</td>\n",
       "      <td>0.345620</td>\n",
       "      <td>...</td>\n",
       "      <td>0.093180</td>\n",
       "      <td>2.245820</td>\n",
       "      <td>93.814492</td>\n",
       "      <td>45.537807</td>\n",
       "      <td>0.139320</td>\n",
       "      <td>0.068040</td>\n",
       "      <td>1.773950e+05</td>\n",
       "      <td>53376.550720</td>\n",
       "      <td>22657.988700</td>\n",
       "      <td>45269.696840</td>\n",
       "    </tr>\n",
       "    <tr>\n",
       "      <th>std</th>\n",
       "      <td>1.942347e+06</td>\n",
       "      <td>2.243390e+06</td>\n",
       "      <td>8676.180969</td>\n",
       "      <td>8676.180969</td>\n",
       "      <td>8671.20408</td>\n",
       "      <td>4.190234</td>\n",
       "      <td>247.503896</td>\n",
       "      <td>1.013218e+05</td>\n",
       "      <td>45.737896</td>\n",
       "      <td>0.910441</td>\n",
       "      <td>...</td>\n",
       "      <td>0.507644</td>\n",
       "      <td>1.906606</td>\n",
       "      <td>9.038545</td>\n",
       "      <td>36.311435</td>\n",
       "      <td>0.393844</td>\n",
       "      <td>0.455384</td>\n",
       "      <td>1.772051e+05</td>\n",
       "      <td>48872.446963</td>\n",
       "      <td>22498.091256</td>\n",
       "      <td>44708.412285</td>\n",
       "    </tr>\n",
       "    <tr>\n",
       "      <th>min</th>\n",
       "      <td>6.702500e+04</td>\n",
       "      <td>2.484710e+05</td>\n",
       "      <td>1000.000000</td>\n",
       "      <td>1000.000000</td>\n",
       "      <td>950.00000</td>\n",
       "      <td>5.320000</td>\n",
       "      <td>30.540000</td>\n",
       "      <td>0.000000e+00</td>\n",
       "      <td>0.000000</td>\n",
       "      <td>0.000000</td>\n",
       "      <td>...</td>\n",
       "      <td>0.000000</td>\n",
       "      <td>0.000000</td>\n",
       "      <td>12.500000</td>\n",
       "      <td>0.000000</td>\n",
       "      <td>0.000000</td>\n",
       "      <td>0.000000</td>\n",
       "      <td>2.500000e+03</td>\n",
       "      <td>0.000000</td>\n",
       "      <td>0.000000</td>\n",
       "      <td>0.000000</td>\n",
       "    </tr>\n",
       "    <tr>\n",
       "      <th>25%</th>\n",
       "      <td>6.594684e+07</td>\n",
       "      <td>7.064157e+07</td>\n",
       "      <td>8000.000000</td>\n",
       "      <td>8000.000000</td>\n",
       "      <td>8000.00000</td>\n",
       "      <td>9.170000</td>\n",
       "      <td>255.040000</td>\n",
       "      <td>4.800000e+04</td>\n",
       "      <td>12.680000</td>\n",
       "      <td>0.000000</td>\n",
       "      <td>...</td>\n",
       "      <td>0.000000</td>\n",
       "      <td>1.000000</td>\n",
       "      <td>90.900000</td>\n",
       "      <td>11.100000</td>\n",
       "      <td>0.000000</td>\n",
       "      <td>0.000000</td>\n",
       "      <td>5.270000e+04</td>\n",
       "      <td>23197.000000</td>\n",
       "      <td>8000.000000</td>\n",
       "      <td>16663.750000</td>\n",
       "    </tr>\n",
       "    <tr>\n",
       "      <th>50%</th>\n",
       "      <td>6.654286e+07</td>\n",
       "      <td>7.126861e+07</td>\n",
       "      <td>14000.000000</td>\n",
       "      <td>14000.000000</td>\n",
       "      <td>13900.00000</td>\n",
       "      <td>11.990000</td>\n",
       "      <td>378.150000</td>\n",
       "      <td>6.600000e+04</td>\n",
       "      <td>18.820000</td>\n",
       "      <td>0.000000</td>\n",
       "      <td>...</td>\n",
       "      <td>0.000000</td>\n",
       "      <td>2.000000</td>\n",
       "      <td>97.300000</td>\n",
       "      <td>42.900000</td>\n",
       "      <td>0.000000</td>\n",
       "      <td>0.000000</td>\n",
       "      <td>1.152950e+05</td>\n",
       "      <td>40633.500000</td>\n",
       "      <td>15600.000000</td>\n",
       "      <td>34672.000000</td>\n",
       "    </tr>\n",
       "    <tr>\n",
       "      <th>75%</th>\n",
       "      <td>6.744762e+07</td>\n",
       "      <td>7.224896e+07</td>\n",
       "      <td>20000.000000</td>\n",
       "      <td>20000.000000</td>\n",
       "      <td>20000.00000</td>\n",
       "      <td>14.480000</td>\n",
       "      <td>573.810000</td>\n",
       "      <td>9.500000e+04</td>\n",
       "      <td>25.620000</td>\n",
       "      <td>0.000000</td>\n",
       "      <td>...</td>\n",
       "      <td>0.000000</td>\n",
       "      <td>3.000000</td>\n",
       "      <td>100.000000</td>\n",
       "      <td>75.000000</td>\n",
       "      <td>0.000000</td>\n",
       "      <td>0.000000</td>\n",
       "      <td>2.554300e+05</td>\n",
       "      <td>67700.000000</td>\n",
       "      <td>29500.000000</td>\n",
       "      <td>60522.000000</td>\n",
       "    </tr>\n",
       "    <tr>\n",
       "      <th>max</th>\n",
       "      <td>6.861706e+07</td>\n",
       "      <td>7.354484e+07</td>\n",
       "      <td>35000.000000</td>\n",
       "      <td>35000.000000</td>\n",
       "      <td>35000.00000</td>\n",
       "      <td>28.990000</td>\n",
       "      <td>1354.660000</td>\n",
       "      <td>9.000000e+06</td>\n",
       "      <td>9999.000000</td>\n",
       "      <td>15.000000</td>\n",
       "      <td>...</td>\n",
       "      <td>14.000000</td>\n",
       "      <td>30.000000</td>\n",
       "      <td>100.000000</td>\n",
       "      <td>100.000000</td>\n",
       "      <td>8.000000</td>\n",
       "      <td>25.000000</td>\n",
       "      <td>4.037303e+06</td>\n",
       "      <td>882172.000000</td>\n",
       "      <td>307500.000000</td>\n",
       "      <td>975560.000000</td>\n",
       "    </tr>\n",
       "  </tbody>\n",
       "</table>\n",
       "<p>8 rows × 87 columns</p>\n",
       "</div>"
      ],
      "text/plain": [
       "                 id     member_id     loan_amnt   funded_amnt  \\\n",
       "count  5.000000e+04  5.000000e+04  50000.000000  50000.000000   \n",
       "mean   6.670962e+07  7.144267e+07  15019.333500  15019.333500   \n",
       "std    1.942347e+06  2.243390e+06   8676.180969   8676.180969   \n",
       "min    6.702500e+04  2.484710e+05   1000.000000   1000.000000   \n",
       "25%    6.594684e+07  7.064157e+07   8000.000000   8000.000000   \n",
       "50%    6.654286e+07  7.126861e+07  14000.000000  14000.000000   \n",
       "75%    6.744762e+07  7.224896e+07  20000.000000  20000.000000   \n",
       "max    6.861706e+07  7.354484e+07  35000.000000  35000.000000   \n",
       "\n",
       "       funded_amnt_inv      int_rate   installment    annual_inc  \\\n",
       "count      50000.00000  50000.000000  50000.000000  5.000000e+04   \n",
       "mean       15011.79400     12.236739    434.134945  7.919482e+04   \n",
       "std         8671.20408      4.190234    247.503896  1.013218e+05   \n",
       "min          950.00000      5.320000     30.540000  0.000000e+00   \n",
       "25%         8000.00000      9.170000    255.040000  4.800000e+04   \n",
       "50%        13900.00000     11.990000    378.150000  6.600000e+04   \n",
       "75%        20000.00000     14.480000    573.810000  9.500000e+04   \n",
       "max        35000.00000     28.990000   1354.660000  9.000000e+06   \n",
       "\n",
       "                dti   delinq_2yrs             ...              \\\n",
       "count  50000.000000  50000.000000             ...               \n",
       "mean      19.540321      0.345620             ...               \n",
       "std       45.737896      0.910441             ...               \n",
       "min        0.000000      0.000000             ...               \n",
       "25%       12.680000      0.000000             ...               \n",
       "50%       18.820000      0.000000             ...               \n",
       "75%       25.620000      0.000000             ...               \n",
       "max     9999.000000     15.000000             ...               \n",
       "\n",
       "       num_tl_90g_dpd_24m  num_tl_op_past_12m  pct_tl_nvr_dlq  \\\n",
       "count        50000.000000        50000.000000    50000.000000   \n",
       "mean             0.093180            2.245820       93.814492   \n",
       "std              0.507644            1.906606        9.038545   \n",
       "min              0.000000            0.000000       12.500000   \n",
       "25%              0.000000            1.000000       90.900000   \n",
       "50%              0.000000            2.000000       97.300000   \n",
       "75%              0.000000            3.000000      100.000000   \n",
       "max             14.000000           30.000000      100.000000   \n",
       "\n",
       "       percent_bc_gt_75  pub_rec_bankruptcies     tax_liens  tot_hi_cred_lim  \\\n",
       "count      49504.000000          50000.000000  50000.000000     5.000000e+04   \n",
       "mean          45.537807              0.139320      0.068040     1.773950e+05   \n",
       "std           36.311435              0.393844      0.455384     1.772051e+05   \n",
       "min            0.000000              0.000000      0.000000     2.500000e+03   \n",
       "25%           11.100000              0.000000      0.000000     5.270000e+04   \n",
       "50%           42.900000              0.000000      0.000000     1.152950e+05   \n",
       "75%           75.000000              0.000000      0.000000     2.554300e+05   \n",
       "max          100.000000              8.000000     25.000000     4.037303e+06   \n",
       "\n",
       "       total_bal_ex_mort  total_bc_limit  total_il_high_credit_limit  \n",
       "count       50000.000000    50000.000000                50000.000000  \n",
       "mean        53376.550720    22657.988700                45269.696840  \n",
       "std         48872.446963    22498.091256                44708.412285  \n",
       "min             0.000000        0.000000                    0.000000  \n",
       "25%         23197.000000     8000.000000                16663.750000  \n",
       "50%         40633.500000    15600.000000                34672.000000  \n",
       "75%         67700.000000    29500.000000                60522.000000  \n",
       "max        882172.000000   307500.000000               975560.000000  \n",
       "\n",
       "[8 rows x 87 columns]"
      ]
     },
     "execution_count": 3,
     "metadata": {},
     "output_type": "execute_result"
    }
   ],
   "source": [
    "y2015.describe()"
   ]
  },
  {
   "cell_type": "code",
   "execution_count": 4,
   "metadata": {},
   "outputs": [
    {
     "data": {
      "text/plain": [
       "array([0.98220356, 0.98120188, 0.98110189, 0.9808    , 0.95828331])"
      ]
     },
     "execution_count": 4,
     "metadata": {},
     "output_type": "execute_result"
    }
   ],
   "source": [
    "from sklearn import ensemble\n",
    "from sklearn.model_selection import cross_val_score\n",
    "\n",
    "rfc = ensemble.RandomForestClassifier()\n",
    "X = y2015.drop('loan_status', 1)\n",
    "Y = y2015['loan_status']\n",
    "X = pd.get_dummies(X)\n",
    "X = X.dropna(axis=1)\n",
    "\n",
    "cross_val_score(rfc, X, Y, cv=5)"
   ]
  },
  {
   "cell_type": "markdown",
   "metadata": {},
   "source": [
    "### DRILL: So here's your task. Get rid of as much data as possible without dropping below an average of 90% accuracy in a 10-fold cross validation.\n",
    "\n",
    "You'll want to do a few things in this process. First, dive into the data that we have and see which features are most important. This can be the raw features or the generated dummies. You may want to use PCA or correlation matrices.\n",
    "\n",
    "Can you do it without using anything related to payment amount or outstanding principal? How do you know?"
   ]
  },
  {
   "cell_type": "markdown",
   "metadata": {},
   "source": [
    "### PCA "
   ]
  },
  {
   "cell_type": "code",
   "execution_count": 16,
   "metadata": {},
   "outputs": [],
   "source": [
    "# Import and run PCA model \n",
    "from sklearn.decomposition import PCA\n",
    "pca = PCA(n_components=10)\n",
    "pca.fit(X)\n",
    "X_pca = pca.transform(X)"
   ]
  },
  {
   "cell_type": "code",
   "execution_count": 17,
   "metadata": {},
   "outputs": [
    {
     "data": {
      "text/plain": [
       "array([0.93082767, 0.93722511, 0.93742503, 0.93841232, 0.9440112 ,\n",
       "       0.9386    , 0.93858772, 0.939988  , 0.93278656, 0.93973974])"
      ]
     },
     "execution_count": 17,
     "metadata": {},
     "output_type": "execute_result"
    }
   ],
   "source": [
    "# Test PCA on forest\n",
    "rfc = ensemble.RandomForestClassifier()\n",
    "cross_val_score(rfc, X_pca, Y, cv=10)"
   ]
  },
  {
   "cell_type": "markdown",
   "metadata": {},
   "source": [
    "Using PCA dimensionality reduction, 90%+ accuracy can be maintained by reducing the data to 10 principle components.  Less than 10 results in <90% accuracy.  "
   ]
  },
  {
   "cell_type": "markdown",
   "metadata": {},
   "source": [
    "### Can you do it without any information related to payment amount or outstanding principal?"
   ]
  },
  {
   "cell_type": "code",
   "execution_count": 27,
   "metadata": {},
   "outputs": [
    {
     "data": {
      "text/plain": [
       "Index(['id', 'member_id', 'loan_amnt', 'funded_amnt', 'funded_amnt_inv',\n",
       "       'int_rate', 'installment', 'annual_inc', 'dti', 'delinq_2yrs',\n",
       "       'inq_last_6mths', 'open_acc', 'pub_rec', 'revol_bal', 'total_acc',\n",
       "       'out_prncp', 'out_prncp_inv', 'total_pymnt', 'total_pymnt_inv',\n",
       "       'total_rec_prncp', 'total_rec_int', 'total_rec_late_fee', 'recoveries',\n",
       "       'collection_recovery_fee', 'last_pymnt_amnt',\n",
       "       'collections_12_mths_ex_med', 'policy_code', 'acc_now_delinq',\n",
       "       'tot_coll_amt', 'tot_cur_bal', 'total_rev_hi_lim',\n",
       "       'acc_open_past_24mths', 'avg_cur_bal', 'chargeoff_within_12_mths',\n",
       "       'delinq_amnt', 'mo_sin_old_rev_tl_op', 'mo_sin_rcnt_rev_tl_op',\n",
       "       'mo_sin_rcnt_tl', 'mort_acc', 'num_accts_ever_120_pd'],\n",
       "      dtype='object')"
      ]
     },
     "execution_count": 27,
     "metadata": {},
     "output_type": "execute_result"
    }
   ],
   "source": [
    "# Examine columns, look for ones related to payment amount or principal\n",
    "X.columns[:40]"
   ]
  },
  {
   "cell_type": "code",
   "execution_count": 26,
   "metadata": {},
   "outputs": [
    {
     "data": {
      "text/plain": [
       "Index(['num_actv_rev_tl', 'num_bc_sats', 'num_bc_tl', 'num_il_tl',\n",
       "       'num_op_rev_tl', 'num_rev_accts', 'num_rev_tl_bal_gt_0', 'num_sats',\n",
       "       'num_tl_30dpd', 'num_tl_90g_dpd_24m', 'num_tl_op_past_12m',\n",
       "       'pct_tl_nvr_dlq', 'pub_rec_bankruptcies', 'tax_liens',\n",
       "       'tot_hi_cred_lim', 'total_bal_ex_mort', 'total_bc_limit',\n",
       "       'total_il_high_credit_limit', 'term_36 months', 'term_60 months',\n",
       "       'grade_A', 'grade_B', 'grade_C', 'grade_D', 'grade_E', 'grade_F',\n",
       "       'grade_G', 'emp_length_1 year', 'emp_length_10+ years',\n",
       "       'emp_length_2 years', 'emp_length_3 years', 'emp_length_4 years',\n",
       "       'emp_length_5 years', 'emp_length_6 years', 'emp_length_7 years',\n",
       "       'emp_length_8 years', 'emp_length_9 years', 'emp_length_< 1 year',\n",
       "       'home_ownership_ANY'],\n",
       "      dtype='object')"
      ]
     },
     "execution_count": 26,
     "metadata": {},
     "output_type": "execute_result"
    }
   ],
   "source": [
    "X.columns[41:80]"
   ]
  },
  {
   "cell_type": "code",
   "execution_count": 28,
   "metadata": {},
   "outputs": [
    {
     "data": {
      "text/plain": [
       "Index(['home_ownership_OWN', 'home_ownership_RENT',\n",
       "       'verification_status_Not Verified',\n",
       "       'verification_status_Source Verified', 'verification_status_Verified',\n",
       "       'issue_d_Dec-15', 'issue_d_Nov-15', 'pymnt_plan_n', 'purpose_car',\n",
       "       'purpose_credit_card', 'purpose_debt_consolidation',\n",
       "       'purpose_home_improvement', 'purpose_house', 'purpose_major_purchase',\n",
       "       'purpose_medical', 'purpose_moving', 'purpose_other',\n",
       "       'purpose_renewable_energy', 'purpose_small_business',\n",
       "       'purpose_vacation', 'title_Business', 'title_Car financing',\n",
       "       'title_Credit card refinancing', 'title_Debt consolidation',\n",
       "       'title_Green loan', 'title_Home buying', 'title_Home improvement',\n",
       "       'title_Major purchase', 'title_Medical expenses',\n",
       "       'title_Moving and relocation', 'title_Other', 'title_Vacation',\n",
       "       'initial_list_status_f', 'initial_list_status_w', 'last_pymnt_d_Apr-16',\n",
       "       'last_pymnt_d_Aug-16', 'last_pymnt_d_Dec-15', 'last_pymnt_d_Dec-16',\n",
       "       'last_pymnt_d_Feb-16'],\n",
       "      dtype='object')"
      ]
     },
     "execution_count": 28,
     "metadata": {},
     "output_type": "execute_result"
    }
   ],
   "source": [
    "X.columns[81:120]"
   ]
  },
  {
   "cell_type": "code",
   "execution_count": 29,
   "metadata": {},
   "outputs": [
    {
     "data": {
      "text/plain": [
       "Index(['last_pymnt_d_Jan-17', 'last_pymnt_d_Jul-16', 'last_pymnt_d_Jun-16',\n",
       "       'last_pymnt_d_Mar-16', 'last_pymnt_d_May-16', 'last_pymnt_d_Nov-16',\n",
       "       'last_pymnt_d_Oct-16', 'last_pymnt_d_Sep-16', 'next_pymnt_d_Feb-17',\n",
       "       'next_pymnt_d_Jan-17', 'next_pymnt_d_Mar-17',\n",
       "       'last_credit_pull_d_Apr-16', 'last_credit_pull_d_Aug-16',\n",
       "       'last_credit_pull_d_Dec-15', 'last_credit_pull_d_Dec-16',\n",
       "       'last_credit_pull_d_Feb-16', 'last_credit_pull_d_Jan-16',\n",
       "       'last_credit_pull_d_Jan-17', 'last_credit_pull_d_Jul-16',\n",
       "       'last_credit_pull_d_Jun-16', 'last_credit_pull_d_Mar-16',\n",
       "       'last_credit_pull_d_May-16', 'last_credit_pull_d_Nov-15',\n",
       "       'last_credit_pull_d_Nov-16', 'last_credit_pull_d_Oct-16',\n",
       "       'last_credit_pull_d_Sep-16', 'application_type_INDIVIDUAL',\n",
       "       'application_type_JOINT', 'verification_status_joint_Not Verified',\n",
       "       'verification_status_joint_Source Verified',\n",
       "       'verification_status_joint_Verified'],\n",
       "      dtype='object')"
      ]
     },
     "execution_count": 29,
     "metadata": {},
     "output_type": "execute_result"
    }
   ],
   "source": [
    "X.columns[121:]"
   ]
  },
  {
   "cell_type": "code",
   "execution_count": 33,
   "metadata": {},
   "outputs": [
    {
     "data": {
      "text/plain": [
       "array([0.94822071, 0.95341863, 0.95461815, 0.95480904, 0.95540892,\n",
       "       0.9568    , 0.95519104, 0.95939188, 0.95639128, 0.95275275])"
      ]
     },
     "execution_count": 33,
     "metadata": {},
     "output_type": "execute_result"
    }
   ],
   "source": [
    "# Remove all columns related to payment amount and outstanding principal \n",
    "columns = ['out_prncp', 'out_prncp_inv', 'total_pymnt', 'total_pymnt_inv',\n",
    "       'total_rec_prncp', 'total_rec_int','last_pymnt_amnt']\n",
    "\n",
    "X_trim = X.drop(columns=columns)\n",
    "\n",
    "# Rerun model with reduced data set\n",
    "rfc = ensemble.RandomForestClassifier()\n",
    "cross_val_score(rfc, X_trim, Y, cv=10)"
   ]
  },
  {
   "cell_type": "markdown",
   "metadata": {},
   "source": [
    "Yes, accuracy >90% can be achieved if payment amount and outstanding principal information is excluded from the dataset."
   ]
  },
  {
   "cell_type": "code",
   "execution_count": null,
   "metadata": {},
   "outputs": [],
   "source": []
  }
 ],
 "metadata": {
  "kernelspec": {
   "display_name": "Python 3",
   "language": "python",
   "name": "python3"
  },
  "language_info": {
   "codemirror_mode": {
    "name": "ipython",
    "version": 3
   },
   "file_extension": ".py",
   "mimetype": "text/x-python",
   "name": "python",
   "nbconvert_exporter": "python",
   "pygments_lexer": "ipython3",
   "version": "3.6.3"
  }
 },
 "nbformat": 4,
 "nbformat_minor": 2
}
