{
 "cells": [
  {
   "cell_type": "code",
   "execution_count": 186,
   "metadata": {},
   "outputs": [],
   "source": [
    "import pandas as pd\n",
    "import numpy as np\n",
    "import matplotlib.pyplot as plt\n",
    "import seaborn as sns\n",
    "from sklearn.metrics import accuracy_score\n",
    "%matplotlib inline"
   ]
  },
  {
   "cell_type": "markdown",
   "metadata": {},
   "source": [
    "## 3.1.4 Model Comparison - OLS and KNN Regression\n",
    "You now know two kinds of regression and two kinds of classifier. So let's use that to compare models!\n",
    "\n",
    "Comparing models is something data scientists do all the time. There's very rarely just one model that would be possible to run for a given situation, so learning to choose the best one is very important.\n",
    "\n",
    "Here let's work on regression. Find a data set and build a KNN Regression and an OLS regression. Compare the two. How similar are they? Do they miss in different ways?\n",
    "\n",
    "Create a Jupyter notebook with your models. At the end in a markdown cell write a few paragraphs to describe the models' behaviors and why you favor one model or the other. Try to determine whether there is a situation where you would change your mind, or whether one is unambiguously better than the other. Lastly, try to note what it is about the data that causes the better model to outperform the weaker model. Submit a link to your notebook below."
   ]
  },
  {
   "cell_type": "markdown",
   "metadata": {},
   "source": [
    "### 1. Data Exploration and Feature Selection\n",
    "For this challenge, I'll be using a wine quality data set obtained from\n",
    "https://archive.ics.uci.edu/ml/datasets/Wine+Quality\n",
    "\n",
    "The objective is to predict **quality** based on select chemical parameters."
   ]
  },
  {
   "cell_type": "code",
   "execution_count": 148,
   "metadata": {},
   "outputs": [],
   "source": [
    "# Load and inspect data\n",
    "df = pd.read_csv('winequality-red.csv', delimiter=';')\n",
    "df.head()\n",
    "df.columns = ['fixed_acidity', 'volatile_acidity', 'citric_acid', 'residual_sug', 'chlorides', 'free_sulf_diox', \n",
    "              'total_sulf_diox', 'density', 'pH', 'sulphates', 'alcohol', 'quality']"
   ]
  },
  {
   "cell_type": "code",
   "execution_count": 149,
   "metadata": {},
   "outputs": [
    {
     "data": {
      "text/html": [
       "<div>\n",
       "<style scoped>\n",
       "    .dataframe tbody tr th:only-of-type {\n",
       "        vertical-align: middle;\n",
       "    }\n",
       "\n",
       "    .dataframe tbody tr th {\n",
       "        vertical-align: top;\n",
       "    }\n",
       "\n",
       "    .dataframe thead th {\n",
       "        text-align: right;\n",
       "    }\n",
       "</style>\n",
       "<table border=\"1\" class=\"dataframe\">\n",
       "  <thead>\n",
       "    <tr style=\"text-align: right;\">\n",
       "      <th></th>\n",
       "      <th>fixed_acidity</th>\n",
       "      <th>volatile_acidity</th>\n",
       "      <th>citric_acid</th>\n",
       "      <th>residual_sug</th>\n",
       "      <th>chlorides</th>\n",
       "      <th>free_sulf_diox</th>\n",
       "      <th>total_sulf_diox</th>\n",
       "      <th>density</th>\n",
       "      <th>pH</th>\n",
       "      <th>sulphates</th>\n",
       "      <th>alcohol</th>\n",
       "      <th>quality</th>\n",
       "    </tr>\n",
       "  </thead>\n",
       "  <tbody>\n",
       "    <tr>\n",
       "      <th>count</th>\n",
       "      <td>1599.000000</td>\n",
       "      <td>1599.000000</td>\n",
       "      <td>1599.000000</td>\n",
       "      <td>1599.000000</td>\n",
       "      <td>1599.000000</td>\n",
       "      <td>1599.000000</td>\n",
       "      <td>1599.000000</td>\n",
       "      <td>1599.000000</td>\n",
       "      <td>1599.000000</td>\n",
       "      <td>1599.000000</td>\n",
       "      <td>1599.000000</td>\n",
       "      <td>1599.000000</td>\n",
       "    </tr>\n",
       "    <tr>\n",
       "      <th>mean</th>\n",
       "      <td>8.319637</td>\n",
       "      <td>0.527821</td>\n",
       "      <td>0.270976</td>\n",
       "      <td>2.538806</td>\n",
       "      <td>0.087467</td>\n",
       "      <td>15.874922</td>\n",
       "      <td>46.467792</td>\n",
       "      <td>0.996747</td>\n",
       "      <td>3.311113</td>\n",
       "      <td>0.658149</td>\n",
       "      <td>10.422983</td>\n",
       "      <td>5.636023</td>\n",
       "    </tr>\n",
       "    <tr>\n",
       "      <th>std</th>\n",
       "      <td>1.741096</td>\n",
       "      <td>0.179060</td>\n",
       "      <td>0.194801</td>\n",
       "      <td>1.409928</td>\n",
       "      <td>0.047065</td>\n",
       "      <td>10.460157</td>\n",
       "      <td>32.895324</td>\n",
       "      <td>0.001887</td>\n",
       "      <td>0.154386</td>\n",
       "      <td>0.169507</td>\n",
       "      <td>1.065668</td>\n",
       "      <td>0.807569</td>\n",
       "    </tr>\n",
       "    <tr>\n",
       "      <th>min</th>\n",
       "      <td>4.600000</td>\n",
       "      <td>0.120000</td>\n",
       "      <td>0.000000</td>\n",
       "      <td>0.900000</td>\n",
       "      <td>0.012000</td>\n",
       "      <td>1.000000</td>\n",
       "      <td>6.000000</td>\n",
       "      <td>0.990070</td>\n",
       "      <td>2.740000</td>\n",
       "      <td>0.330000</td>\n",
       "      <td>8.400000</td>\n",
       "      <td>3.000000</td>\n",
       "    </tr>\n",
       "    <tr>\n",
       "      <th>25%</th>\n",
       "      <td>7.100000</td>\n",
       "      <td>0.390000</td>\n",
       "      <td>0.090000</td>\n",
       "      <td>1.900000</td>\n",
       "      <td>0.070000</td>\n",
       "      <td>7.000000</td>\n",
       "      <td>22.000000</td>\n",
       "      <td>0.995600</td>\n",
       "      <td>3.210000</td>\n",
       "      <td>0.550000</td>\n",
       "      <td>9.500000</td>\n",
       "      <td>5.000000</td>\n",
       "    </tr>\n",
       "    <tr>\n",
       "      <th>50%</th>\n",
       "      <td>7.900000</td>\n",
       "      <td>0.520000</td>\n",
       "      <td>0.260000</td>\n",
       "      <td>2.200000</td>\n",
       "      <td>0.079000</td>\n",
       "      <td>14.000000</td>\n",
       "      <td>38.000000</td>\n",
       "      <td>0.996750</td>\n",
       "      <td>3.310000</td>\n",
       "      <td>0.620000</td>\n",
       "      <td>10.200000</td>\n",
       "      <td>6.000000</td>\n",
       "    </tr>\n",
       "    <tr>\n",
       "      <th>75%</th>\n",
       "      <td>9.200000</td>\n",
       "      <td>0.640000</td>\n",
       "      <td>0.420000</td>\n",
       "      <td>2.600000</td>\n",
       "      <td>0.090000</td>\n",
       "      <td>21.000000</td>\n",
       "      <td>62.000000</td>\n",
       "      <td>0.997835</td>\n",
       "      <td>3.400000</td>\n",
       "      <td>0.730000</td>\n",
       "      <td>11.100000</td>\n",
       "      <td>6.000000</td>\n",
       "    </tr>\n",
       "    <tr>\n",
       "      <th>max</th>\n",
       "      <td>15.900000</td>\n",
       "      <td>1.580000</td>\n",
       "      <td>1.000000</td>\n",
       "      <td>15.500000</td>\n",
       "      <td>0.611000</td>\n",
       "      <td>72.000000</td>\n",
       "      <td>289.000000</td>\n",
       "      <td>1.003690</td>\n",
       "      <td>4.010000</td>\n",
       "      <td>2.000000</td>\n",
       "      <td>14.900000</td>\n",
       "      <td>8.000000</td>\n",
       "    </tr>\n",
       "  </tbody>\n",
       "</table>\n",
       "</div>"
      ],
      "text/plain": [
       "       fixed_acidity  volatile_acidity  citric_acid  residual_sug  \\\n",
       "count    1599.000000       1599.000000  1599.000000   1599.000000   \n",
       "mean        8.319637          0.527821     0.270976      2.538806   \n",
       "std         1.741096          0.179060     0.194801      1.409928   \n",
       "min         4.600000          0.120000     0.000000      0.900000   \n",
       "25%         7.100000          0.390000     0.090000      1.900000   \n",
       "50%         7.900000          0.520000     0.260000      2.200000   \n",
       "75%         9.200000          0.640000     0.420000      2.600000   \n",
       "max        15.900000          1.580000     1.000000     15.500000   \n",
       "\n",
       "         chlorides  free_sulf_diox  total_sulf_diox      density           pH  \\\n",
       "count  1599.000000     1599.000000      1599.000000  1599.000000  1599.000000   \n",
       "mean      0.087467       15.874922        46.467792     0.996747     3.311113   \n",
       "std       0.047065       10.460157        32.895324     0.001887     0.154386   \n",
       "min       0.012000        1.000000         6.000000     0.990070     2.740000   \n",
       "25%       0.070000        7.000000        22.000000     0.995600     3.210000   \n",
       "50%       0.079000       14.000000        38.000000     0.996750     3.310000   \n",
       "75%       0.090000       21.000000        62.000000     0.997835     3.400000   \n",
       "max       0.611000       72.000000       289.000000     1.003690     4.010000   \n",
       "\n",
       "         sulphates      alcohol      quality  \n",
       "count  1599.000000  1599.000000  1599.000000  \n",
       "mean      0.658149    10.422983     5.636023  \n",
       "std       0.169507     1.065668     0.807569  \n",
       "min       0.330000     8.400000     3.000000  \n",
       "25%       0.550000     9.500000     5.000000  \n",
       "50%       0.620000    10.200000     6.000000  \n",
       "75%       0.730000    11.100000     6.000000  \n",
       "max       2.000000    14.900000     8.000000  "
      ]
     },
     "execution_count": 149,
     "metadata": {},
     "output_type": "execute_result"
    }
   ],
   "source": [
    "df.describe()"
   ]
  },
  {
   "cell_type": "code",
   "execution_count": 150,
   "metadata": {},
   "outputs": [
    {
     "name": "stdout",
     "output_type": "stream",
     "text": [
      "                  fixed_acidity  volatile_acidity  citric_acid  residual_sug  \\\n",
      "fixed_acidity          1.000000         -0.256131     0.671703      0.114777   \n",
      "volatile_acidity      -0.256131          1.000000    -0.552496      0.001918   \n",
      "citric_acid            0.671703         -0.552496     1.000000      0.143577   \n",
      "residual_sug           0.114777          0.001918     0.143577      1.000000   \n",
      "chlorides              0.093705          0.061298     0.203823      0.055610   \n",
      "free_sulf_diox        -0.153794         -0.010504    -0.060978      0.187049   \n",
      "total_sulf_diox       -0.113181          0.076470     0.035533      0.203028   \n",
      "density                0.668047          0.022026     0.364947      0.355283   \n",
      "pH                    -0.682978          0.234937    -0.541904     -0.085652   \n",
      "sulphates              0.183006         -0.260987     0.312770      0.005527   \n",
      "alcohol               -0.061668         -0.202288     0.109903      0.042075   \n",
      "quality                0.124052         -0.390558     0.226373      0.013732   \n",
      "\n",
      "                  chlorides  free_sulf_diox  total_sulf_diox   density  \\\n",
      "fixed_acidity      0.093705       -0.153794        -0.113181  0.668047   \n",
      "volatile_acidity   0.061298       -0.010504         0.076470  0.022026   \n",
      "citric_acid        0.203823       -0.060978         0.035533  0.364947   \n",
      "residual_sug       0.055610        0.187049         0.203028  0.355283   \n",
      "chlorides          1.000000        0.005562         0.047400  0.200632   \n",
      "free_sulf_diox     0.005562        1.000000         0.667666 -0.021946   \n",
      "total_sulf_diox    0.047400        0.667666         1.000000  0.071269   \n",
      "density            0.200632       -0.021946         0.071269  1.000000   \n",
      "pH                -0.265026        0.070377        -0.066495 -0.341699   \n",
      "sulphates          0.371260        0.051658         0.042947  0.148506   \n",
      "alcohol           -0.221141       -0.069408        -0.205654 -0.496180   \n",
      "quality           -0.128907       -0.050656        -0.185100 -0.174919   \n",
      "\n",
      "                        pH  sulphates   alcohol   quality  \n",
      "fixed_acidity    -0.682978   0.183006 -0.061668  0.124052  \n",
      "volatile_acidity  0.234937  -0.260987 -0.202288 -0.390558  \n",
      "citric_acid      -0.541904   0.312770  0.109903  0.226373  \n",
      "residual_sug     -0.085652   0.005527  0.042075  0.013732  \n",
      "chlorides        -0.265026   0.371260 -0.221141 -0.128907  \n",
      "free_sulf_diox    0.070377   0.051658 -0.069408 -0.050656  \n",
      "total_sulf_diox  -0.066495   0.042947 -0.205654 -0.185100  \n",
      "density          -0.341699   0.148506 -0.496180 -0.174919  \n",
      "pH                1.000000  -0.196648  0.205633 -0.057731  \n",
      "sulphates        -0.196648   1.000000  0.093595  0.251397  \n",
      "alcohol           0.205633   0.093595  1.000000  0.476166  \n",
      "quality          -0.057731   0.251397  0.476166  1.000000  \n"
     ]
    }
   ],
   "source": [
    "# Inspect variable correlation for feature selection\n",
    "corr_matrix = df.corr()\n",
    "print(corr_matrix)"
   ]
  },
  {
   "cell_type": "markdown",
   "metadata": {},
   "source": [
    "Based on the correlation matrix, I will select only features with a positive correlation >0.10 to the target variable 'quality'.  Choosing features with positive and negative correlations to the predicted value would lead to noise in the prediction model."
   ]
  },
  {
   "cell_type": "code",
   "execution_count": 334,
   "metadata": {},
   "outputs": [
    {
     "name": "stdout",
     "output_type": "stream",
     "text": [
      "               fixed_acidity  citric_acid  sulphates   alcohol   quality\n",
      "fixed_acidity       1.000000     0.671703   0.183006 -0.061668  0.124052\n",
      "citric_acid         0.671703     1.000000   0.312770  0.109903  0.226373\n",
      "sulphates           0.183006     0.312770   1.000000  0.093595  0.251397\n",
      "alcohol            -0.061668     0.109903   0.093595  1.000000  0.476166\n",
      "quality             0.124052     0.226373   0.251397  0.476166  1.000000\n"
     ]
    }
   ],
   "source": [
    "# Define feature df\n",
    "data = df.loc[:, ['fixed_acidity', 'citric_acid', 'sulphates', 'alcohol', 'quality']]\n",
    "\n",
    "# Trimmed correlation matrix\n",
    "corr_matrix_data = data.corr()\n",
    "print(corr_matrix_data)"
   ]
  },
  {
   "cell_type": "markdown",
   "metadata": {},
   "source": [
    "Citric acid and fixed acidity are highly correlated.  To simplify model inputs, I'll remove fixed acidity because it has a weaker correlation to quality and therefore less predictive power.  "
   ]
  },
  {
   "cell_type": "code",
   "execution_count": 335,
   "metadata": {},
   "outputs": [
    {
     "name": "stdout",
     "output_type": "stream",
     "text": [
      "             citric_acid  sulphates   alcohol   quality\n",
      "citric_acid     1.000000   0.312770  0.109903  0.226373\n",
      "sulphates       0.312770   1.000000  0.093595  0.251397\n",
      "alcohol         0.109903   0.093595  1.000000  0.476166\n",
      "quality         0.226373   0.251397  0.476166  1.000000\n"
     ]
    }
   ],
   "source": [
    "# Modify feature df \n",
    "data = df.loc[:, ['citric_acid', 'sulphates', 'alcohol', 'quality']]\n",
    "\n",
    "# Trimmed correlation matrix\n",
    "corr_matrix_data = data.corr()\n",
    "print(corr_matrix_data)"
   ]
  },
  {
   "cell_type": "code",
   "execution_count": 336,
   "metadata": {},
   "outputs": [
    {
     "data": {
      "image/png": "[encoded data removed]",
      "text/plain": [
       "<matplotlib.figure.Figure at 0x12318190>"
      ]
     },
     "metadata": {},
     "output_type": "display_data"
    }
   ],
   "source": [
    "# Inspect distribution of features\n",
    "# How do I make the grid layout taller? \n",
    "f, (ax1, ax2, ax3, ax4) = plt.subplots(4, sharex=False, sharey=False)\n",
    "\n",
    "plt.plot(figsize=(20,20)) # doesn't appear to do anything\n",
    "\n",
    "ax1.hist(data['citric_acid'])\n",
    "ax1.set_title('citric acid')\n",
    "\n",
    "ax2.hist(data['sulphates'])\n",
    "ax2.set_title('sulphates')\n",
    "\n",
    "ax3.hist(data['alcohol'])\n",
    "ax3.set_title('alcohol')\n",
    "\n",
    "ax4.hist(data['quality'])\n",
    "ax4.set_title('quality')\n",
    "\n",
    "f.tight_layout()\n",
    "\n",
    "plt.show()"
   ]
  },
  {
   "cell_type": "markdown",
   "metadata": {},
   "source": [
    "### 2. Create train/test data sets for hold out validation"
   ]
  },
  {
   "cell_type": "code",
   "execution_count": 337,
   "metadata": {},
   "outputs": [],
   "source": [
    "# Split data into train/test sets (70/30)\n",
    "x = data.loc[:, ['citric_acid', 'sulphates', 'alcohol']]\n",
    "y = data.loc[:, ['quality']]\n",
    "\n",
    "# Split data using sklearn\n",
    "from sklearn.model_selection import train_test_split\n",
    "x_train, x_test, y_train, y_test = train_test_split(x, y, test_size=0.30, random_state=43)"
   ]
  },
  {
   "cell_type": "markdown",
   "metadata": {},
   "source": [
    "### 3. OLS Regression Model"
   ]
  },
  {
   "cell_type": "code",
   "execution_count": 338,
   "metadata": {},
   "outputs": [
    {
     "name": "stdout",
     "output_type": "stream",
     "text": [
      "Regression score - training data: 0.25415375300663634\n",
      "Regression score - test data: 0.33514429069401663\n"
     ]
    }
   ],
   "source": [
    "# Import linear model\n",
    "from sklearn import linear_model\n",
    "\n",
    "# Instantiate and fit model with test data\n",
    "lm = linear_model.LinearRegression()\n",
    "lm.fit(x_train, y_train)\n",
    "\n",
    "# Get score for training data\n",
    "print('Regression score - training data:', lm.score(x_train, y_train))\n",
    "\n",
    "# Get score for test data\n",
    "print('Regression score - test data:', lm.score(x_test, y_test))"
   ]
  },
  {
   "cell_type": "markdown",
   "metadata": {},
   "source": [
    "The model does not appear to be overfit; however, the model is not performing particularly well on either data set."
   ]
  },
  {
   "cell_type": "code",
   "execution_count": 340,
   "metadata": {},
   "outputs": [
    {
     "name": "stdout",
     "output_type": "stream",
     "text": [
      "                            OLS Regression Results                            \n",
      "==============================================================================\n",
      "Dep. Variable:                quality   R-squared:                       0.254\n",
      "Model:                            OLS   Adj. R-squared:                  0.252\n",
      "Method:                 Least Squares   F-statistic:                     126.6\n",
      "Date:                Sat, 10 Mar 2018   Prob (F-statistic):           1.35e-70\n",
      "Time:                        16:38:38   Log-Likelihood:                -1165.2\n",
      "No. Observations:                1119   AIC:                             2338.\n",
      "Df Residuals:                    1115   BIC:                             2359.\n",
      "Df Model:                           3                                         \n",
      "Covariance Type:            nonrobust                                         \n",
      "===============================================================================\n",
      "                  coef    std err          t      P>|t|      [0.025      0.975]\n",
      "-------------------------------------------------------------------------------\n",
      "Intercept       1.6651      0.213      7.819      0.000       1.247       2.083\n",
      "citric_acid     0.4661      0.112      4.179      0.000       0.247       0.685\n",
      "sulphates       0.7910      0.126      6.297      0.000       0.545       1.037\n",
      "alcohol         0.3178      0.020     16.007      0.000       0.279       0.357\n",
      "==============================================================================\n",
      "Omnibus:                       25.971   Durbin-Watson:                   1.995\n",
      "Prob(Omnibus):                  0.000   Jarque-Bera (JB):               39.703\n",
      "Skew:                          -0.212   Prob(JB):                     2.39e-09\n",
      "Kurtosis:                       3.819   Cond. No.                         111.\n",
      "==============================================================================\n",
      "\n",
      "Warnings:\n",
      "[1] Standard Errors assume that the covariance matrix of the errors is correctly specified.\n"
     ]
    }
   ],
   "source": [
    "# Examine model parameters in greater depth using StatsModels\n",
    "\n",
    "# Import model\n",
    "import statsmodels.formula.api as smf\n",
    "\n",
    "# Join x_train & y_train into one variable\n",
    "data = x_train.join(y_train)\n",
    "\n",
    "#specify interactions \n",
    "linear_formula = 'quality ~ citric_acid+sulphates+alcohol'\n",
    "\n",
    "# run validation\n",
    "lm = smf.ols(formula=linear_formula, data=data).fit()\n",
    "\n",
    "# get results\n",
    "print(lm.summary())"
   ]
  },
  {
   "cell_type": "markdown",
   "metadata": {},
   "source": [
    "#### OLS Summary\n",
    "Low R^2 values, indicating lots of unexplained variance in Y given X, although F-statistic reveals significant test and all parameters are significant (is F-test really all that valuable?). Poor model performance likely due to non-parametric distribution of predictors, poor feature selection."
   ]
  },
  {
   "cell_type": "markdown",
   "metadata": {},
   "source": [
    "### 4. KNN Regression Model"
   ]
  },
  {
   "cell_type": "code",
   "execution_count": 307,
   "metadata": {},
   "outputs": [],
   "source": [
    "# Import library\n",
    "from sklearn import neighbors"
   ]
  },
  {
   "cell_type": "code",
   "execution_count": 308,
   "metadata": {},
   "outputs": [
    {
     "name": "stdout",
     "output_type": "stream",
     "text": [
      "Train: 0.9758861274563243\n",
      "Test: 0.05686269617505413\n"
     ]
    }
   ],
   "source": [
    "# ************************ K = 1 **********************************\n",
    "\n",
    "# Build model, fit with training data, set K=1, no weighting\n",
    "knn_1 = neighbors.KNeighborsRegressor(n_neighbors=1)\n",
    "knn_1.fit(x_train, y_train)\n",
    "\n",
    "print('Train:', knn_1.score(x_train, y_train))\n",
    "print('Test:', knn_1.score(x_test, y_test))\n",
    " "
   ]
  },
  {
   "cell_type": "markdown",
   "metadata": {},
   "source": [
    "KNN_1 is overfit.  Performance on test data is much worse than training data."
   ]
  },
  {
   "cell_type": "code",
   "execution_count": 341,
   "metadata": {},
   "outputs": [
    {
     "name": "stdout",
     "output_type": "stream",
     "text": [
      "Train: 0.5062046288291533\n",
      "Test: 0.31926445270590564\n"
     ]
    }
   ],
   "source": [
    "# ************************** K = 5 ********************************\n",
    "\n",
    "# Build model, K=5, no weighting\n",
    "knn_5 = neighbors.KNeighborsRegressor(n_neighbors=5)\n",
    "knn_5.fit(x_train, y_train)\n",
    "\n",
    "print('Train:', knn_5.score(x_train, y_train))\n",
    "print('Test:', knn_5.score(x_test, y_test))"
   ]
  },
  {
   "cell_type": "markdown",
   "metadata": {},
   "source": [
    "KNN_5 is less overfit than KNN_1, however, the model still exhibits overfitting and does not perform that well.  This version of the model performs roughly the same as the OLS model."
   ]
  },
  {
   "cell_type": "code",
   "execution_count": 347,
   "metadata": {},
   "outputs": [
    {
     "name": "stdout",
     "output_type": "stream",
     "text": [
      "Train: 0.9881794742432961\n",
      "Test: 0.37550577922385764\n"
     ]
    }
   ],
   "source": [
    "# *********************** K = 5, Distance Weighted *************************\n",
    "\n",
    "# Build model, K=5, weighting\n",
    "knn_5w = neighbors.KNeighborsRegressor(n_neighbors=5, weights='distance')\n",
    "knn_5w.fit(x_train, y_train)\n",
    "\n",
    "print('Train:', knn_5w.score(x_train, y_train))\n",
    "print('Test:', knn_5w.score(x_test, y_test))"
   ]
  },
  {
   "cell_type": "markdown",
   "metadata": {},
   "source": [
    "The model performs quite well on the training data set, but still shows overfitting.  Despite the overfitting, this is the best version of the model so far."
   ]
  },
  {
   "cell_type": "markdown",
   "metadata": {},
   "source": [
    "## Results:\n",
    "In general, all models perform poorly indicating better feature selection could be done.  The features should also be normalized due to their varying scales.  The OLS model is less prone to overfitting than KNN Regression.  "
   ]
  },
  {
   "cell_type": "markdown",
   "metadata": {},
   "source": [
    "#### Questions:\n",
    "\n",
    "If doing data transformation - does it happen before testing any models or do you incorporate/customize it for each individual model (i.e. transform to normal distribution for linear model, but not KNN, and normalize for KNN but not OLS)?  At what point do you untransform it?  Do you need to worry about undoing the transform in order to determine the model score?"
   ]
  },
  {
   "cell_type": "code",
   "execution_count": null,
   "metadata": {},
   "outputs": [],
   "source": []
  }
 ],
 "metadata": {
  "kernelspec": {
   "display_name": "Python 3",
   "language": "python",
   "name": "python3"
  },
  "language_info": {
   "codemirror_mode": {
    "name": "ipython",
    "version": 3
   },
   "file_extension": ".py",
   "mimetype": "text/x-python",
   "name": "python",
   "nbconvert_exporter": "python",
   "pygments_lexer": "ipython3",
   "version": "3.6.3"
  }
 },
 "nbformat": 4,
 "nbformat_minor": 2
}
