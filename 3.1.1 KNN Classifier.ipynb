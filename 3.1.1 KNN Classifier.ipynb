{
 "cells": [
  {
   "cell_type": "code",
   "execution_count": 1,
   "metadata": {},
   "outputs": [],
   "source": [
    "import math\n",
    "import numpy as np\n",
    "import pandas as pd\n",
    "import matplotlib.pyplot as plt\n",
    "import scipy\n",
    "%matplotlib inline"
   ]
  },
  {
   "cell_type": "markdown",
   "metadata": {},
   "source": [
    "## 3.1.1 KNN Classifier\n",
    "### Challenge: Implement the Nearest Neighbor algorithm¶\n",
    "The Nearest Neighbor algorithm is extremely simple. So simple, in fact, that you should be able to build it yourself from scratch using the Python you already know. Code a Nearest Neighbors algorithm that works for two dimensional data. You can use either arrays or dataframes to do this. Test it against the SKLearn package on the music dataset from above to ensure that it's correct. The goal here is to confirm your understanding of the model and continue to practice your Python skills. We're just expecting a brute force method here. After doing this, look up \"ball tree\" methods to see a more performant algorithm design."
   ]
  },
  {
   "cell_type": "code",
   "execution_count": 2,
   "metadata": {},
   "outputs": [],
   "source": [
    "# Copy in data from lesson\n",
    "\n",
    "music = pd.DataFrame()\n",
    "\n",
    "music['duration'] = [184, 134, 243, 186, 122, 197, 294, 382, 102, 264, \n",
    "                     205, 110, 307, 110, 397, 153, 190, 192, 210, 403,\n",
    "                     164, 198, 204, 253, 234, 190, 182, 401, 376, 102]\n",
    "\n",
    "music['loudness'] = [18, 34, 43, 36, 22, 9, 29, 22, 10, 24, \n",
    "                     20, 10, 17, 51, 7, 13, 19, 12, 21, 22,\n",
    "                     16, 18, 4, 23, 34, 19, 14, 11, 37, 42]\n",
    "\n",
    "music['jazz'] = [ 1, 0, 0, 0, 1, 1, 0, 1, 1, 0,\n",
    "                  0, 1, 1, 0, 1, 1, 0, 1, 1, 1,\n",
    "                  1, 1, 1, 1, 0, 0, 1, 1, 0, 0]"
   ]
  },
  {
   "cell_type": "code",
   "execution_count": 3,
   "metadata": {},
   "outputs": [
    {
     "name": "stdout",
     "output_type": "stream",
     "text": [
      "duration    184\n",
      "loudness     18\n",
      "jazz          1\n",
      "Name: 0, dtype: int64\n",
      "duration    134\n",
      "loudness     34\n",
      "jazz          0\n",
      "Name: 1, dtype: int64\n",
      "duration    243\n",
      "loudness     43\n",
      "jazz          0\n",
      "Name: 2, dtype: int64\n",
      "duration    186\n",
      "loudness     36\n",
      "jazz          0\n",
      "Name: 3, dtype: int64\n",
      "duration    122\n",
      "loudness     22\n",
      "jazz          1\n",
      "Name: 4, dtype: int64\n",
      "duration    197\n",
      "loudness      9\n",
      "jazz          1\n",
      "Name: 5, dtype: int64\n",
      "duration    294\n",
      "loudness     29\n",
      "jazz          0\n",
      "Name: 6, dtype: int64\n",
      "duration    382\n",
      "loudness     22\n",
      "jazz          1\n",
      "Name: 7, dtype: int64\n",
      "duration    102\n",
      "loudness     10\n",
      "jazz          1\n",
      "Name: 8, dtype: int64\n",
      "duration    264\n",
      "loudness     24\n",
      "jazz          0\n",
      "Name: 9, dtype: int64\n",
      "duration    205\n",
      "loudness     20\n",
      "jazz          0\n",
      "Name: 10, dtype: int64\n",
      "duration    110\n",
      "loudness     10\n",
      "jazz          1\n",
      "Name: 11, dtype: int64\n",
      "duration    307\n",
      "loudness     17\n",
      "jazz          1\n",
      "Name: 12, dtype: int64\n",
      "duration    110\n",
      "loudness     51\n",
      "jazz          0\n",
      "Name: 13, dtype: int64\n",
      "duration    397\n",
      "loudness      7\n",
      "jazz          1\n",
      "Name: 14, dtype: int64\n",
      "duration    153\n",
      "loudness     13\n",
      "jazz          1\n",
      "Name: 15, dtype: int64\n",
      "duration    190\n",
      "loudness     19\n",
      "jazz          0\n",
      "Name: 16, dtype: int64\n",
      "duration    192\n",
      "loudness     12\n",
      "jazz          1\n",
      "Name: 17, dtype: int64\n",
      "duration    210\n",
      "loudness     21\n",
      "jazz          1\n",
      "Name: 18, dtype: int64\n",
      "duration    403\n",
      "loudness     22\n",
      "jazz          1\n",
      "Name: 19, dtype: int64\n",
      "duration    164\n",
      "loudness     16\n",
      "jazz          1\n",
      "Name: 20, dtype: int64\n",
      "duration    198\n",
      "loudness     18\n",
      "jazz          1\n",
      "Name: 21, dtype: int64\n",
      "duration    204\n",
      "loudness      4\n",
      "jazz          1\n",
      "Name: 22, dtype: int64\n",
      "duration    253\n",
      "loudness     23\n",
      "jazz          1\n",
      "Name: 23, dtype: int64\n",
      "duration    234\n",
      "loudness     34\n",
      "jazz          0\n",
      "Name: 24, dtype: int64\n",
      "duration    190\n",
      "loudness     19\n",
      "jazz          0\n",
      "Name: 25, dtype: int64\n",
      "duration    182\n",
      "loudness     14\n",
      "jazz          1\n",
      "Name: 26, dtype: int64\n",
      "duration    401\n",
      "loudness     11\n",
      "jazz          1\n",
      "Name: 27, dtype: int64\n",
      "duration    376\n",
      "loudness     37\n",
      "jazz          0\n",
      "Name: 28, dtype: int64\n",
      "duration    102\n",
      "loudness     42\n",
      "jazz          0\n",
      "Name: 29, dtype: int64\n"
     ]
    }
   ],
   "source": [
    "music\n",
    "\n",
    "for index, row in music.iterrows():\n",
    "   print(row)"
   ]
  },
  {
   "cell_type": "code",
   "execution_count": 7,
   "metadata": {},
   "outputs": [],
   "source": [
    "## Code doesn't work (error on line 9).  Continue troubleshooting\n",
    "\n",
    "import numpy as np\n",
    "\n",
    "def nearest_neighbor(a, b):\n",
    "    \n",
    "    # set starting shortest dist arbitrarily high\n",
    "    shortest_dist = 1000\n",
    "    # create empty list store index of shortest distance\n",
    "    index_shortest_dist = []\n",
    "    \n",
    "    # iterate through duration and loudness values in dataframe\n",
    "    for index, row in music.iterrows():\n",
    "        duration = row['duration']\n",
    "        loudness = row['loudness']\n",
    "    \n",
    "        # find distance between all points\n",
    "        dist = np.sqrt((a-duration)**2 + (b-loudness**2))      \n",
    "    \n",
    "        # determine shortest distance and store index\n",
    "        if dist < shortest_dist:\n",
    "            shortest_dist = dist \n",
    "            index_shortest_dist = index\n",
    "    return music.iloc[index_shortest_dist]['jazz']\n",
    "    "
   ]
  },
  {
   "cell_type": "code",
   "execution_count": 8,
   "metadata": {},
   "outputs": [
    {
     "name": "stdout",
     "output_type": "stream",
     "text": [
      "From scratch result: 1\n"
     ]
    }
   ],
   "source": [
    "# Compare to homemade version\n",
    "print('From scratch result:', nearest_neighbor(120, 18))"
   ]
  },
  {
   "cell_type": "code",
   "execution_count": 9,
   "metadata": {},
   "outputs": [
    {
     "name": "stdout",
     "output_type": "stream",
     "text": [
      "KNN algo result: [1]\n"
     ]
    }
   ],
   "source": [
    "# Import and train KNN\n",
    "from sklearn.neighbors import KNeighborsClassifier\n",
    "neighbors = KNeighborsClassifier(n_neighbors=1)\n",
    "X = music[['duration', 'loudness']]\n",
    "Y = music.jazz\n",
    "neighbors.fit(X,Y)\n",
    "\n",
    "# Get results from KNN algo\n",
    "print('KNN algo result:', neighbors.predict([[120, 18]]))"
   ]
  },
  {
   "cell_type": "code",
   "execution_count": null,
   "metadata": {},
   "outputs": [],
   "source": []
  }
 ],
 "metadata": {
  "kernelspec": {
   "display_name": "Python 3",
   "language": "python",
   "name": "python3"
  },
  "language_info": {
   "codemirror_mode": {
    "name": "ipython",
    "version": 3
   },
   "file_extension": ".py",
   "mimetype": "text/x-python",
   "name": "python",
   "nbconvert_exporter": "python",
   "pygments_lexer": "ipython3",
   "version": "3.6.3"
  }
 },
 "nbformat": 4,
 "nbformat_minor": 2
}
